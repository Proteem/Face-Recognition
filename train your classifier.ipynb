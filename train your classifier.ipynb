{
 "cells": [
  {
   "cell_type": "markdown",
   "metadata": {},
   "source": [
    "# This script processing images and training your own  face classifier."
   ]
  },
  {
   "cell_type": "code",
   "execution_count": 1,
   "metadata": {},
   "outputs": [
    {
     "name": "stdout",
     "output_type": "stream",
     "text": [
      "Populating the interactive namespace from numpy and matplotlib\n"
     ]
    },
    {
     "name": "stderr",
     "output_type": "stream",
     "text": [
      "/home/avirup171/anaconda3/envs/tfenv/lib/python3.7/site-packages/sklearn/externals/joblib/__init__.py:15: DeprecationWarning: sklearn.externals.joblib is deprecated in 0.21 and will be removed in 0.23. Please import this functionality directly from joblib, which can be installed with: pip install joblib. If this warning is raised when loading pickled models, you may need to re-serialize those models with scikit-learn 0.21+.\n",
      "  warnings.warn(msg, category=DeprecationWarning)\n",
      "/home/avirup171/anaconda3/envs/tfenv/lib/python3.7/site-packages/IPython/core/magics/pylab.py:160: UserWarning: pylab import has clobbered these variables: ['copy']\n",
      "`%matplotlib` prevents importing * from pylab and numpy\n",
      "  \"\\n`%matplotlib` prevents importing * from pylab and numpy\"\n"
     ]
    }
   ],
   "source": [
    "\n",
    "import tensorflow as tf\n",
    "import numpy as np\n",
    "import cv2\n",
    "\n",
    "import os\n",
    "from os.path import join as pjoin\n",
    "import sys\n",
    "import copy\n",
    "import detect_face\n",
    "import nn4 as network\n",
    "import matplotlib.pyplot as plt\n",
    "\n",
    "\n",
    "import sklearn\n",
    "from sklearn.preprocessing import StandardScaler\n",
    "from sklearn.model_selection import train_test_split\n",
    "from sklearn import metrics  \n",
    "from sklearn.externals import joblib\n",
    "from sklearn.multioutput import MultiOutputClassifier\n",
    "%pylab inline\n",
    "\n"
   ]
  },
  {
   "cell_type": "code",
   "execution_count": 2,
   "metadata": {},
   "outputs": [],
   "source": [
    "#face detection parameters\n",
    "minsize = 20 # minimum size of face\n",
    "threshold = [ 0.6, 0.7, 0.7 ]  # three steps's threshold\n",
    "factor = 0.709 # scale factor\n",
    "\n",
    "#facenet embedding parameters\n",
    "\n",
    "model_dir='./20180408-102900'#\"Directory containing the graph definition and checkpoint files.\")\n",
    "model_def= 'nn4'  # \"Points to a module containing the definition of the inference graph.\")\n",
    "image_size=96 #\"Image size (height, width) in pixels.\"\n",
    "pool_type='MAX' #\"The type of pooling to use for some of the inception layers {'MAX', 'L2'}.\n",
    "use_lrn=False #\"Enables Local Response Normalization after the first layers of the inception network.\"\n",
    "seed=42,# \"Random seed.\"\n",
    "batch_size= None # \"Number of images to process in a batch.\"\n",
    "\n"
   ]
  },
  {
   "cell_type": "markdown",
   "metadata": {
    "collapsed": true
   },
   "source": [
    "# Creating Networks and Loading Parameters"
   ]
  },
  {
   "cell_type": "code",
   "execution_count": 3,
   "metadata": {
    "scrolled": false
   },
   "outputs": [
    {
     "name": "stdout",
     "output_type": "stream",
     "text": [
      "1.13.1\n",
      "WARNING:tensorflow:From /home/avirup171/anaconda3/envs/tfenv/lib/python3.7/site-packages/tensorflow/python/framework/op_def_library.py:263: colocate_with (from tensorflow.python.framework.ops) is deprecated and will be removed in a future version.\n",
      "Instructions for updating:\n",
      "Colocations handled automatically by placer.\n",
      "WARNING:tensorflow:From /home/avirup171/Documents/Face-Recognition/detect_face.py:213: div (from tensorflow.python.ops.math_ops) is deprecated and will be removed in a future version.\n",
      "Instructions for updating:\n",
      "Deprecated in favor of operator or tf.math.divide.\n"
     ]
    }
   ],
   "source": [
    "gpu_memory_fraction=1.0\n",
    "print(tf.__version__)\n",
    "with tf.Graph().as_default():\n",
    "    gpu_options = tf.GPUOptions(per_process_gpu_memory_fraction=gpu_memory_fraction)\n",
    "    sess = tf.Session(config=tf.ConfigProto(gpu_options=gpu_options, log_device_placement=False))\n",
    "    with sess.as_default():\n",
    "        pnet, rnet, onet = detect_face.create_mtcnn(sess, './model_check_point/')\n",
    "        \n",
    "      "
   ]
  },
  {
   "cell_type": "markdown",
   "metadata": {},
   "source": [
    "# Face Embedding"
   ]
  },
  {
   "cell_type": "code",
   "execution_count": 4,
   "metadata": {
    "scrolled": true
   },
   "outputs": [
    {
     "name": "stdout",
     "output_type": "stream",
     "text": [
      "name =  incept3a\n",
      "inputSize =  192\n",
      "kernelSize = {3,5}\n",
      "kernelStride = {1,1}\n",
      "outputSize = {128,32}\n",
      "reduceSize = {96,16,32,64}\n",
      "pooling = {MAX, 3, 3, 1, 1}\n",
      "outputSize =  256\n",
      "\n",
      "name =  incept3b\n",
      "inputSize =  256\n",
      "kernelSize = {3,5}\n",
      "kernelStride = {1,1}\n",
      "outputSize = {128,64}\n",
      "reduceSize = {96,32,64,64}\n",
      "pooling = {MAX, 3, 3, 1, 1}\n",
      "outputSize =  320\n",
      "\n",
      "name =  incept3c\n",
      "inputSize =  320\n",
      "kernelSize = {3,5}\n",
      "kernelStride = {2,2}\n",
      "outputSize = {256,64}\n",
      "reduceSize = {128,32,0,0}\n",
      "pooling = {MAX, 3, 3, 2, 2}\n",
      "outputSize =  640\n",
      "\n",
      "name =  incept4a\n",
      "inputSize =  640\n",
      "kernelSize = {3,5}\n",
      "kernelStride = {1,1}\n",
      "outputSize = {192,64}\n",
      "reduceSize = {96,32,128,256}\n",
      "pooling = {MAX, 3, 3, 1, 1}\n",
      "outputSize =  640\n",
      "\n",
      "name =  incept4b\n",
      "inputSize =  640\n",
      "kernelSize = {3,5}\n",
      "kernelStride = {1,1}\n",
      "outputSize = {224,64}\n",
      "reduceSize = {112,32,128,224}\n",
      "pooling = {MAX, 3, 3, 1, 1}\n",
      "outputSize =  640\n",
      "\n",
      "name =  incept4c\n",
      "inputSize =  640\n",
      "kernelSize = {3,5}\n",
      "kernelStride = {1,1}\n",
      "outputSize = {256,64}\n",
      "reduceSize = {128,32,128,192}\n",
      "pooling = {MAX, 3, 3, 1, 1}\n",
      "outputSize =  640\n",
      "\n",
      "name =  incept4d\n",
      "inputSize =  640\n",
      "kernelSize = {3,5}\n",
      "kernelStride = {1,1}\n",
      "outputSize = {288,64}\n",
      "reduceSize = {144,32,128,160}\n",
      "pooling = {MAX, 3, 3, 1, 1}\n",
      "outputSize =  640\n",
      "\n",
      "name =  incept4e\n",
      "inputSize =  640\n",
      "kernelSize = {3,5}\n",
      "kernelStride = {2,2}\n",
      "outputSize = {256,128}\n",
      "reduceSize = {160,64,0,0}\n",
      "pooling = {MAX, 3, 3, 2, 2}\n",
      "outputSize =  1024\n",
      "\n",
      "name =  incept5a\n",
      "inputSize =  1024\n",
      "kernelSize = {3,5}\n",
      "kernelStride = {1,1}\n",
      "outputSize = {384,0}\n",
      "reduceSize = {192,0,128,384}\n",
      "pooling = {MAX, 3, 3, 1, 1}\n",
      "outputSize =  896\n",
      "\n",
      "name =  incept5b\n",
      "inputSize =  896\n",
      "kernelSize = {3,5}\n",
      "kernelStride = {1,1}\n",
      "outputSize = {384,0}\n",
      "reduceSize = {192,0,128,384}\n",
      "pooling = {MAX, 3, 3, 1, 1}\n",
      "outputSize =  896\n",
      "\n",
      "WARNING:tensorflow:From /home/avirup171/Documents/Face-Recognition/nn4.py:77: calling dropout (from tensorflow.python.ops.nn_ops) with keep_prob is deprecated and will be removed in a future version.\n",
      "Instructions for updating:\n",
      "Please use `rate` instead of `keep_prob`. Rate should be set to `rate = 1 - keep_prob`.\n",
      "WARNING:tensorflow:From /home/avirup171/anaconda3/envs/tfenv/lib/python3.7/site-packages/tensorflow/python/training/queue_runner_impl.py:391: QueueRunner.__init__ (from tensorflow.python.training.queue_runner_impl) is deprecated and will be removed in a future version.\n",
      "Instructions for updating:\n",
      "To construct input pipelines, use the `tf.data` module.\n",
      "WARNING:tensorflow:From /home/avirup171/anaconda3/envs/tfenv/lib/python3.7/site-packages/tensorflow/python/training/saver.py:1266: checkpoint_exists (from tensorflow.python.training.checkpoint_management) is deprecated and will be removed in a future version.\n",
      "Instructions for updating:\n",
      "Use standard file APIs to check for files with this prefix.\n",
      "INFO:tensorflow:Restoring parameters from ./20180408-102900/model-20180408-102900.ckpt-90\n",
      "facenet embedding\n"
     ]
    }
   ],
   "source": [
    "tf.reset_default_graph()\n",
    "tf.Graph().as_default()\n",
    "sess = tf.Session()\n",
    "images_placeholder = tf.placeholder(tf.float32, shape=(batch_size, \n",
    "                                                       image_size, \n",
    "                                                       image_size, 3), name='input')\n",
    "\n",
    "phase_train_placeholder = tf.placeholder(tf.bool, name='phase_train')\n",
    "\n",
    "\n",
    "\n",
    "embeddings = network.inference(images_placeholder, 1.0, \n",
    "                               phase_train=phase_train_placeholder,weight_decay=0.0)\n",
    "\n",
    "\n",
    "\n",
    "saver = tf.train.import_meta_graph('./20180408-102900/model-20180408-102900.meta')\n",
    "\n",
    "model_checkpoint_path='./20180408-102900/model-20180408-102900.ckpt-90'\n",
    "\n",
    "saver.restore(sess, model_checkpoint_path)\n",
    "print('facenet embedding')"
   ]
  },
  {
   "cell_type": "markdown",
   "metadata": {
    "collapsed": true
   },
   "source": [
    "# reading training images from train folder\n"
   ]
  },
  {
   "cell_type": "code",
   "execution_count": 5,
   "metadata": {},
   "outputs": [],
   "source": [
    "###### train_dir containing one subdirectory per image class \n",
    "\n",
    "data_dir=r'/home/avirup171/Documents/Face-Recognition/train_dir'#your own train folder"
   ]
  },
  {
   "cell_type": "code",
   "execution_count": 6,
   "metadata": {},
   "outputs": [],
   "source": [
    "def to_rgb(img):\n",
    "    w, h = img.shape\n",
    "    ret = np.empty((w, h, 3), dtype=np.uint8)\n",
    "    ret[:, :, 0] = ret[:, :, 1] = ret[:, :, 2] = img\n",
    "    return ret\n",
    "\n",
    "def read_img(person_dir,f):\n",
    "    img=cv2.imread(pjoin(person_dir, f))\n",
    "    \n",
    "    gray = cv2.cvtColor(img, cv2.COLOR_BGR2GRAY)\n",
    "        \n",
    "    if gray.ndim == 2:\n",
    "        img = to_rgb(gray)\n",
    "    return img\n",
    "\n",
    "def load_data(data_dir):\n",
    "    data = {}\n",
    "    pics_ctr = 0\n",
    "    for guy in os.listdir(data_dir):\n",
    "        person_dir = pjoin(data_dir, guy)\n",
    "        \n",
    "        curr_pics = [read_img(person_dir, f) for f in os.listdir(person_dir)]\n",
    "        \n",
    "     \n",
    "        \n",
    "        data[guy] = curr_pics\n",
    "        \n",
    "    return data"
   ]
  },
  {
   "cell_type": "code",
   "execution_count": 7,
   "metadata": {},
   "outputs": [
    {
     "name": "stdout",
     "output_type": "stream",
     "text": [
      "foler:Bibhas,image numbers：3\n",
      "foler:Payel,image numbers：15\n",
      "foler:Mallika,image numbers：11\n",
      "foler:Proteem,image numbers：14\n"
     ]
    }
   ],
   "source": [
    "data=load_data(data_dir)\n",
    "keys=[]\n",
    "for key in data.items():\n",
    "    keys.append(key)\n",
    "    \n",
    "for j in range(len(keys)):\n",
    "    \n",
    "    print('foler:{},image numbers：{}' .format([i[0] for i in keys][j],[len(i[1]) for i in keys][j]))\n",
    "    "
   ]
  },
  {
   "cell_type": "code",
   "execution_count": null,
   "metadata": {},
   "outputs": [],
   "source": []
  },
  {
   "cell_type": "code",
   "execution_count": 8,
   "metadata": {},
   "outputs": [
    {
     "name": "stdout",
     "output_type": "stream",
     "text": [
      "3\n",
      "21\n",
      "34\n",
      "49\n",
      "Length of train_x：49\n"
     ]
    }
   ],
   "source": [
    "train_x=[]\n",
    "train_y=[]\n",
    "for j in range(len(keys)):\n",
    "    \n",
    "    for x in [i[1] for i in keys][j]:\n",
    "       \n",
    "        bounding_boxes, _ = detect_face.detect_face(x, minsize, pnet, rnet, onet, threshold, factor)\n",
    "        nrof_faces = bounding_boxes.shape[0]#number of faces\n",
    "        \n",
    "\n",
    "\n",
    "\n",
    "        for face_position in bounding_boxes:\n",
    "            face_position=face_position.astype(int)\n",
    "            #print(face_position[0:4])\n",
    "            cv2.rectangle(x, (face_position[0], face_position[1]), (face_position[2], face_position[3]), (0, 255, 0), 2)\n",
    "            crop=x[face_position[1]:face_position[3],\n",
    "                 face_position[0]:face_position[2],]\n",
    "\n",
    "            crop = cv2.resize(crop, (96, 96), interpolation=cv2.INTER_CUBIC )\n",
    "\n",
    "            #print(crop.shape)\n",
    "\n",
    "            crop_data=crop.reshape(-1,96,96,3)\n",
    "            #print(crop_data.shape)\n",
    "            \n",
    "\n",
    "            #emb_data = sess.run(embeddings, \n",
    "                                #feed_dict={images_placeholder: np.array(crop_data), phase_train_placeholder: True})[0]\n",
    "\n",
    "\n",
    "            train_x.append(np.array(crop_data))\n",
    "            train_y.append(0)\n",
    "    print(len(train_x))\n",
    "\n",
    "print('Length of train_x：{}'.format(len(train_x)))"
   ]
  },
  {
   "cell_type": "code",
   "execution_count": 9,
   "metadata": {},
   "outputs": [
    {
     "name": "stdout",
     "output_type": "stream",
     "text": [
      "(2646, 512)\n",
      "(2646, 512)\n",
      "(2116, 512) (2116, 512) (530, 512) (530, 512)\n"
     ]
    }
   ],
   "source": [
    "#train/test split\n",
    "train_x=np.array(train_x)\n",
    "train_x=train_x.reshape(-1,512)\n",
    "train_y=np.array(train_x)\n",
    "print(train_x.shape)\n",
    "print(train_y.shape)\n",
    "\n",
    "\n",
    "X_train, X_test, y_train, y_test = train_test_split(train_x, train_y, test_size=.2, random_state=1)\n",
    "print(X_train.shape,y_train.shape,X_test.shape,y_test.shape)"
   ]
  },
  {
   "cell_type": "code",
   "execution_count": null,
   "metadata": {},
   "outputs": [],
   "source": [
    "# KNN Classifier  \n",
    "from sklearn.neighbors import KNeighborsClassifier  \n",
    "def knn_classifier(train_x, train_y):  \n",
    "    classifier = KNeighborsClassifier(n_neighbors=3) \n",
    "    model=MultiOutputClassifier(classifier,n_jobs=-1)\n",
    "    model.fit(train_x, train_y)  \n",
    "    return model  \n",
    "\n",
    "classifiers = knn_classifier \n",
    "\n",
    "model = classifiers(X_train,y_train)  \n",
    "predict = model.predict(X_test)  \n",
    "\n",
    "accuracy = metrics.accuracy_score(y_test, predict)  \n",
    "print ('accuracy: %.2f%%' % (100 * accuracy)  ) \n",
    "  \n",
    "    \n",
    "#save model\n",
    "joblib.dump(model, './model_check_point/knn_classifier.model')\n",
    "#model = joblib.load('_2017_1_24_knn.model')"
   ]
  },
  {
   "cell_type": "code",
   "execution_count": null,
   "metadata": {},
   "outputs": [],
   "source": [
    "model = joblib.load('./model_check_point/knn_classifier.model')\n",
    "predict = model.predict(X_test) \n",
    "accuracy = metrics.accuracy_score(y_test, predict)  \n",
    "print ('accuracy: %.2f%%' % (100 * accuracy)  ) "
   ]
  },
  {
   "cell_type": "code",
   "execution_count": null,
   "metadata": {},
   "outputs": [],
   "source": []
  }
 ],
 "metadata": {
  "kernelspec": {
   "display_name": "Python 3",
   "language": "python",
   "name": "python3"
  },
  "language_info": {
   "codemirror_mode": {
    "name": "ipython",
    "version": 3
   },
   "file_extension": ".py",
   "mimetype": "text/x-python",
   "name": "python",
   "nbconvert_exporter": "python",
   "pygments_lexer": "ipython3",
   "version": "3.7.3"
  }
 },
 "nbformat": 4,
 "nbformat_minor": 1
}
